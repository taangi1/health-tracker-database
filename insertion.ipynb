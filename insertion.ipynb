{
 "cells": [
  {
   "cell_type": "code",
   "execution_count": 1,
   "id": "efd59d2d",
   "metadata": {},
   "outputs": [],
   "source": [
    "from faker import Faker\n",
    "import sqlite3\n",
    "import random\n",
    "from datetime import timedelta, datetime"
   ]
  },
  {
   "cell_type": "code",
   "execution_count": 2,
   "id": "aa534532",
   "metadata": {},
   "outputs": [
    {
     "data": {
      "text/plain": [
       "<sqlite3.Cursor at 0x7db4f8308b40>"
      ]
     },
     "execution_count": 2,
     "metadata": {},
     "output_type": "execute_result"
    }
   ],
   "source": [
    "conn = sqlite3.connect('health_tracker.db')\n",
    "cursor = conn.cursor()\n",
    "cursor.execute(\"PRAGMA foreign_keys = ON\")"
   ]
  },
  {
   "cell_type": "code",
   "execution_count": 3,
   "id": "2c7cc5bc",
   "metadata": {},
   "outputs": [],
   "source": [
    "fake = Faker()\n",
    "fake.unique.name()\n",
    "Faker.seed(424243)\n",
    "random.seed(424243)"
   ]
  },
  {
   "cell_type": "code",
   "execution_count": 4,
   "id": "8d9c601d",
   "metadata": {},
   "outputs": [],
   "source": [
    "def insert_sample_user_data(num_records):\n",
    "    for _ in range(num_records):\n",
    "        name = fake.name()\n",
    "        dob = fake.date_of_birth(minimum_age=18, maximum_age=50)\n",
    "        reg_date = fake.date_this_year()\n",
    "        gender = random.choices(['Male', 'Female', 'PreferNotToSay'], [0.45, 0.45, 0.1], k=1)[0]\n",
    "        email = fake.unique.email()\n",
    "        uname = fake.unique.user_name()\n",
    "\n",
    "        dob_str = dob.strftime('%Y-%m-%d')\n",
    "        reg_date_str = reg_date.strftime('%Y-%m-%d')\n",
    "\n",
    "        say_info = random.choices([True, False], [0.7,0.3], k=1)[0]\n",
    "        if say_info:\n",
    "            first_name = name.split()[0]\n",
    "            last_name = name.split()[1]\n",
    "            cursor.execute('''\n",
    "            INSERT INTO users (\n",
    "            first_name,\n",
    "            last_name,\n",
    "            date_of_birth,\n",
    "            registration_date,\n",
    "            gender,\n",
    "            username,\n",
    "            email\n",
    "            )\n",
    "            VALUES (?, ?, ?, ?, ?, ?, ?);\n",
    "            ''', (first_name, last_name, dob_str, reg_date_str, gender, uname, email))\n",
    "        else:\n",
    "            cursor.execute('''\n",
    "            INSERT INTO users (\n",
    "            first_name,\n",
    "            last_name,\n",
    "            date_of_birth,\n",
    "            registration_date,\n",
    "            gender,\n",
    "            username,\n",
    "            email\n",
    "            )\n",
    "            VALUES (?, ?, ?, ?, ?, ?, ?);\n",
    "            ''', (None, None, None, reg_date_str, gender, uname, email))\n"
   ]
  },
  {
   "cell_type": "code",
   "execution_count": 5,
   "id": "9f8120a4",
   "metadata": {},
   "outputs": [],
   "source": [
    "def insert_sample_device_data():\n",
    "    cursor.execute(\"SELECT COUNT(*) FROM users\")\n",
    "    number_of_rows = cursor.fetchone()[0]\n",
    "    cursor.execute(\"SELECT user_id FROM users\")\n",
    "    user_ids = [row[0] for row in cursor.fetchall()]\n",
    "\n",
    "    for _ in range(number_of_rows-number_of_rows//10):\n",
    "        user_id = random.choice(user_ids)\n",
    "        dev_type = random.choice(['watch', 'band'])\n",
    "        if dev_type=='watch':\n",
    "            device_model = random.choice(['watch 3 ultimate', 'watch 3', 'watch 2', 'watch 1'])\n",
    "        else:\n",
    "            device_model = random.choice(['band 4', 'band 5', 'band 3', 'band 2', 'band 1'])\n",
    "        firmware_version = random.choice(['1.1.2', '1.1.1a', '1.2.1b', '1.0.5', '1.1.3'])\n",
    "        warranty_expire_date = fake.future_date(end_date=\"+2y\").strftime('%Y-%m-%d')\n",
    "        last_sync_date = fake.date_between(start_date='-30d').strftime('%Y-%m-%d')\n",
    "        cursor.execute('''\n",
    "                        INSERT INTO devices (\n",
    "                            user_id,\n",
    "                            device_type,\n",
    "                            device_model,\n",
    "                            firmware_version,\n",
    "                            warranty_expire_date,\n",
    "                            last_sync_date\n",
    "                        )\n",
    "                        VALUES (?, ?, ?, ?, ?, ?);\n",
    "                        ''', (user_id, dev_type, device_model, firmware_version, warranty_expire_date, last_sync_date))"
   ]
  },
  {
   "cell_type": "code",
   "execution_count": 6,
   "id": "1a44d6cf",
   "metadata": {},
   "outputs": [],
   "source": [
    "def insert_sample_exercise_data():\n",
    "        exercises = ['push-ups', 'lifting', 'flexibility', 'running', 'bodyweight exercises']\n",
    "        units =     ['repetitions', 'kg', '%', 'km', 'sets']\n",
    "        for i in range(len(exercises)):\n",
    "            cursor.execute('''\n",
    "                            INSERT INTO exercise_type (\n",
    "                                exercise_name,\n",
    "                                exercise_unit\n",
    "                            )\n",
    "                            VALUES (?,?);\n",
    "                            ''', (exercises[i], units[i]))"
   ]
  },
  {
   "cell_type": "code",
   "execution_count": 7,
   "id": "8eaea6aa",
   "metadata": {},
   "outputs": [],
   "source": [
    "def insert_sample_metric_data():\n",
    "        metric_name = ['Heart Rate', 'Steps', 'sleep', 'SpO2', 'Blood Pressure']\n",
    "        metric_unit = ['bpm', 'steps', 'time', '%', 'mmHg']\n",
    "        for i in range(len(metric_name)):\n",
    "            cursor.execute('''\n",
    "                            INSERT INTO metric_type (\n",
    "                                metric_name,\n",
    "                                metric_unit\n",
    "                            )\n",
    "                            VALUES (?,?);\n",
    "                            ''', (metric_name[i], metric_unit[i]))"
   ]
  },
  {
   "cell_type": "code",
   "execution_count": 8,
   "id": "8d3aa291",
   "metadata": {},
   "outputs": [],
   "source": [
    "def insert_sample_exerciseslog_data():\n",
    "    cursor.execute(\"SELECT COUNT(*) FROM users\")\n",
    "    number_of_rows = cursor.fetchone()[0]\n",
    "    cursor.execute(\"SELECT device_id FROM devices\")\n",
    "    device_ids = [row[0] for row in cursor.fetchall()]\n",
    "    cursor.execute(\"SELECT exercise_id FROM exercise_type\")\n",
    "    exercises = [row[0] for row in cursor.fetchall()]\n",
    "    \n",
    "    for _ in range(number_of_rows*2):\n",
    "        device_id = random.choice(device_ids)\n",
    "        exercise_id = random.choice(exercises)\n",
    "        if exercise_id==1:\n",
    "            exercise_value = int(random.normalvariate(40, 10))\n",
    "        elif exercise_id==2:\n",
    "            exercise_value = int(random.normalvariate(70, 15))\n",
    "        elif exercise_id==3:\n",
    "            exercise_value = random.uniform(0.2, 1.0)\n",
    "        elif exercise_id==4:\n",
    "            exercise_value = int(random.normalvariate(5, 0.5))\n",
    "        elif exercise_id==5:\n",
    "            exercise_value = int(random.normalvariate(10, 1))\n",
    "        \n",
    "        now = datetime.now()\n",
    "\n",
    "        one_week_ago = now - timedelta(weeks=1)\n",
    "\n",
    "        start_time = one_week_ago + (now - one_week_ago) * random.random()\n",
    "        end_time = start_time + timedelta(minutes=1)*random.random() + timedelta(hours=3)*random.random()\n",
    "        cursor.execute('''\n",
    "                        INSERT INTO exercises_log (\n",
    "                            exercise_id,\n",
    "                            device_id,\n",
    "                            exercise_value,\n",
    "                            start_time,\n",
    "                            end_time\n",
    "                        )\n",
    "                        VALUES (?, ?, ?, ?, ?);\n",
    "                        ''', (exercise_id, device_id, exercise_value, start_time, end_time))"
   ]
  },
  {
   "cell_type": "code",
   "execution_count": 9,
   "id": "adfafbc7",
   "metadata": {},
   "outputs": [],
   "source": [
    "def insert_sample_metricslog_data():\n",
    "    cursor.execute(\"SELECT device_id FROM devices\")\n",
    "    device_ids = [row[0] for row in cursor.fetchall()]\n",
    "    \n",
    "    for i in device_ids:\n",
    "        for time in range(12*24*7):\n",
    "            device_id = i\n",
    "            \n",
    "            metric_value_1 = int(random.normalvariate(70, 10))\n",
    "\n",
    "            stepped = random.randint(1, 10)\n",
    "            if stepped < 3:\n",
    "                metric_value_2 = int(random.normalvariate(60, 60))\n",
    "                metric_value_2 = max(metric_value_2, 0)\n",
    "            else:\n",
    "                metric_value_2 = int(random.normalvariate(5, 1))\n",
    "\n",
    "            metric_value_3 = random.normalvariate(5, 1)\n",
    "            now = datetime.now()\n",
    "\n",
    "            timestamp = now - timedelta(minutes=5)*time\n",
    "\n",
    "            if timestamp.hour >= 22 or timestamp.hour <= 8:\n",
    "                cursor.execute('''\n",
    "                            INSERT INTO metrics_log (\n",
    "                                metric_id,\n",
    "                                device_id,\n",
    "                                metric_value,\n",
    "                                metric_timestamp\n",
    "                            )\n",
    "                            VALUES (?, ?, ?, ?);\n",
    "                            ''', (1, device_id, metric_value_1, timestamp))\n",
    "                cursor.execute('''\n",
    "                            INSERT INTO metrics_log (\n",
    "                                metric_id,\n",
    "                                device_id,\n",
    "                                metric_value,\n",
    "                                metric_timestamp\n",
    "                            )\n",
    "                            VALUES (?, ?, ?, ?);\n",
    "                            ''', (3, device_id, metric_value_3, timestamp))\n",
    "            else:\n",
    "                cursor.execute('''\n",
    "                                INSERT INTO metrics_log (\n",
    "                                    metric_id,\n",
    "                                    device_id,\n",
    "                                    metric_value,\n",
    "                                    metric_timestamp\n",
    "                                )\n",
    "                                VALUES (?, ?, ?, ?);\n",
    "                                ''', (1, device_id, metric_value_1, timestamp))\n",
    "                cursor.execute('''\n",
    "                                INSERT INTO metrics_log (\n",
    "                                    metric_id,\n",
    "                                    device_id,\n",
    "                                    metric_value,\n",
    "                                    metric_timestamp\n",
    "                                )\n",
    "                                VALUES (?, ?, ?, ?);\n",
    "                                ''', (2, device_id, metric_value_2, timestamp))"
   ]
  },
  {
   "cell_type": "code",
   "execution_count": 10,
   "id": "7952d781",
   "metadata": {},
   "outputs": [],
   "source": [
    "def insert_sample_goal_data():\n",
    "    cursor.execute(\"SELECT COUNT(*) FROM users\")\n",
    "    number_of_rows = cursor.fetchone()[0]\n",
    "    cursor.execute(\"SELECT user_id FROM users\")\n",
    "    user_ids = [row[0] for row in cursor.fetchall()]\n",
    "\n",
    "    for _ in range(number_of_rows*3):\n",
    "        user_id = random.choice(user_ids)\n",
    "        target_type = random.choice(['Exercise', 'HealthMetric'])\n",
    "        if target_type == 'HealthMetric':\n",
    "            metric_id = random.randint(1,2)\n",
    "            if metric_id == 1:\n",
    "                target_value = random.randint(50, 70)\n",
    "            else:\n",
    "                target_value = int(random.normalvariate(5000, 250))\n",
    "            now = datetime.now()\n",
    "\n",
    "            one_week_ago = now - timedelta(weeks=1)\n",
    "\n",
    "            start_time = one_week_ago + (now - one_week_ago) * random.random()\n",
    "            cursor.execute('''\n",
    "                            INSERT INTO goals (\n",
    "                                user_id,\n",
    "                                metric_id,\n",
    "                                exercise_id,\n",
    "                                target_type,\n",
    "                                target_value,\n",
    "                                goal_start_date\n",
    "                            )\n",
    "                            VALUES (?, ?, ?, ?, ?, ?);\n",
    "                            ''', (user_id, metric_id, None, target_type, target_value, start_time))\n",
    "        else:\n",
    "            exercise_id = 1\n",
    "            target_value = random.randint(50, 70)\n",
    "            now = datetime.now()\n",
    "\n",
    "            one_week_ago = now - timedelta(weeks=1)\n",
    "\n",
    "            start_time = one_week_ago + (now - one_week_ago) * random.random()\n",
    "            cursor.execute('''\n",
    "                            INSERT INTO goals (\n",
    "                                user_id,\n",
    "                                metric_id,\n",
    "                                exercise_id,\n",
    "                                target_type,\n",
    "                                target_value,\n",
    "                                goal_start_date\n",
    "                            )\n",
    "                            VALUES (?, ?, ?, ?, ?, ?);\n",
    "                            ''', (user_id, None, exercise_id, target_type, target_value, start_time))\n"
   ]
  },
  {
   "cell_type": "code",
   "execution_count": 11,
   "id": "9ea3e859",
   "metadata": {},
   "outputs": [],
   "source": [
    "insert_sample_user_data(20)"
   ]
  },
  {
   "cell_type": "code",
   "execution_count": 12,
   "id": "0a141bf4",
   "metadata": {},
   "outputs": [],
   "source": [
    "insert_sample_device_data()"
   ]
  },
  {
   "cell_type": "code",
   "execution_count": 13,
   "id": "ec616a1d",
   "metadata": {},
   "outputs": [],
   "source": [
    "insert_sample_exercise_data()"
   ]
  },
  {
   "cell_type": "code",
   "execution_count": 14,
   "id": "9cb06bb9",
   "metadata": {},
   "outputs": [],
   "source": [
    "insert_sample_metric_data()"
   ]
  },
  {
   "cell_type": "code",
   "execution_count": 15,
   "id": "359043e1",
   "metadata": {},
   "outputs": [
    {
     "name": "stderr",
     "output_type": "stream",
     "text": [
      "/tmp/ipykernel_21339/2799765046.py:29: DeprecationWarning: The default datetime adapter is deprecated as of Python 3.12; see the sqlite3 documentation for suggested replacement recipes\n",
      "  cursor.execute('''\n"
     ]
    }
   ],
   "source": [
    "insert_sample_exerciseslog_data()"
   ]
  },
  {
   "cell_type": "code",
   "execution_count": 16,
   "id": "d7c43067",
   "metadata": {},
   "outputs": [
    {
     "name": "stderr",
     "output_type": "stream",
     "text": [
      "/tmp/ipykernel_21339/3023290985.py:43: DeprecationWarning: The default datetime adapter is deprecated as of Python 3.12; see the sqlite3 documentation for suggested replacement recipes\n",
      "  cursor.execute('''\n",
      "/tmp/ipykernel_21339/3023290985.py:52: DeprecationWarning: The default datetime adapter is deprecated as of Python 3.12; see the sqlite3 documentation for suggested replacement recipes\n",
      "  cursor.execute('''\n",
      "/tmp/ipykernel_21339/3023290985.py:24: DeprecationWarning: The default datetime adapter is deprecated as of Python 3.12; see the sqlite3 documentation for suggested replacement recipes\n",
      "  cursor.execute('''\n",
      "/tmp/ipykernel_21339/3023290985.py:33: DeprecationWarning: The default datetime adapter is deprecated as of Python 3.12; see the sqlite3 documentation for suggested replacement recipes\n",
      "  cursor.execute('''\n"
     ]
    }
   ],
   "source": [
    "insert_sample_metricslog_data()"
   ]
  },
  {
   "cell_type": "code",
   "execution_count": 17,
   "id": "aabc12b1",
   "metadata": {},
   "outputs": [
    {
     "name": "stderr",
     "output_type": "stream",
     "text": [
      "/tmp/ipykernel_21339/480264677.py:21: DeprecationWarning: The default datetime adapter is deprecated as of Python 3.12; see the sqlite3 documentation for suggested replacement recipes\n",
      "  cursor.execute('''\n",
      "/tmp/ipykernel_21339/480264677.py:40: DeprecationWarning: The default datetime adapter is deprecated as of Python 3.12; see the sqlite3 documentation for suggested replacement recipes\n",
      "  cursor.execute('''\n"
     ]
    }
   ],
   "source": [
    "insert_sample_goal_data()"
   ]
  },
  {
   "cell_type": "code",
   "execution_count": 18,
   "id": "7a2df74a",
   "metadata": {},
   "outputs": [],
   "source": [
    "conn.commit()\n",
    "cursor.close()\n",
    "conn.close()"
   ]
  },
  {
   "cell_type": "code",
   "execution_count": null,
   "id": "b2cbd16d",
   "metadata": {},
   "outputs": [],
   "source": []
  }
 ],
 "metadata": {
  "kernelspec": {
   "display_name": "my-venv",
   "language": "python",
   "name": "python3"
  },
  "language_info": {
   "codemirror_mode": {
    "name": "ipython",
    "version": 3
   },
   "file_extension": ".py",
   "mimetype": "text/x-python",
   "name": "python",
   "nbconvert_exporter": "python",
   "pygments_lexer": "ipython3",
   "version": "3.13.3"
  }
 },
 "nbformat": 4,
 "nbformat_minor": 5
}
